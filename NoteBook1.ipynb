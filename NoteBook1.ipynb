{
  "nbformat": 4,
  "nbformat_minor": 0,
  "metadata": {
    "colab": {
      "provenance": [],
      "collapsed_sections": []
    },
    "kernelspec": {
      "name": "python3",
      "display_name": "Python 3"
    },
    "language_info": {
      "name": "python"
    },
    "accelerator": "GPU"
  },
  "cells": [
    {
      "cell_type": "code",
      "execution_count": null,
      "metadata": {
        "colab": {
          "base_uri": "https://localhost:8080/"
        },
        "id": "zAkX3kJSBinb",
        "outputId": "00e069b3-636c-4b80-ad84-b20f6f5f206a"
      },
      "outputs": [
        {
          "output_type": "stream",
          "name": "stdout",
          "text": [
            "Drive already mounted at /content/drive; to attempt to forcibly remount, call drive.mount(\"/content/drive\", force_remount=True).\n"
          ]
        }
      ],
      "source": [
        "import numpy as np\n",
        "import matplotlib.pyplot as plt\n",
        "import pandas as pd\n",
        "import os\n",
        "import cv2\n",
        "from sklearn.preprocessing import minmax_scale\n",
        "from google.colab import drive\n",
        "drive.mount('/content/drive')"
      ]
    },
    {
      "cell_type": "code",
      "source": [
        "#Path için değişken tanımlanması\n",
        "#Kategorilerin bulunduğu dosya isimlerinin liste halinde tutulması\n",
        "dir = \"/content/drive/MyDrive/Classlar\"\n",
        "categories = [0,1,2,3,4,5,6,7,8,9]"
      ],
      "metadata": {
        "id": "zR27wYz8B9Q5"
      },
      "execution_count": null,
      "outputs": []
    },
    {
      "cell_type": "code",
      "source": [
        "def load_image_from_folder(dir):\n",
        "    training_data = []\n",
        "    for cat in categories:\n",
        "        path = os.path.join(dir, str(cat)) #0'dan 9'a bütün klasörlerin okunması\n",
        "        for img in os.listdir(path): #Okunan klasörler içerisindeki görsellerin seçilmesi\n",
        "                \n",
        "            img_array = cv2.imread(os.path.join(path, img), 0) # grayscale\n",
        "                \n",
        "            img = cv2.resize(img_array,(28,28)) # resize\n",
        "                \n",
        "            img = minmax_scale(img) # normalization\n",
        "\n",
        "            training_data.append([img, cat]) #Görselleri ve sınıflarının birlikte liste içinde tutulması.\n",
        "\n",
        "    return training_data"
      ],
      "metadata": {
        "id": "zCjo31-HCREY"
      },
      "execution_count": null,
      "outputs": []
    },
    {
      "cell_type": "code",
      "source": [
        "training_data = load_image_from_folder(dir)"
      ],
      "metadata": {
        "id": "U_jXSk_2CVGf"
      },
      "execution_count": null,
      "outputs": []
    },
    {
      "cell_type": "code",
      "source": [
        "X = [] # Verisetindeki özniteliklerin sınıflarından ayrılmış bir biçimde tutulması\n",
        "y = [] # Verisetindeki sınıfların tutulması\n",
        "for feature, label in training_data:\n",
        "    X.append(feature)\n",
        "    y.append(label)"
      ],
      "metadata": {
        "id": "B7f662ziCauo"
      },
      "execution_count": null,
      "outputs": []
    },
    {
      "cell_type": "code",
      "source": [
        "X = np.array(X) # Veri setinin array formatında tutulması.\n",
        "X_reshape = np.array(X).reshape(-1, 28, 28, 1) # Veri setinin gray scale olması sebebiyle tek boyutlu olarak reshape edilmesi"
      ],
      "metadata": {
        "id": "EJxnT606EStA"
      },
      "execution_count": null,
      "outputs": []
    },
    {
      "cell_type": "code",
      "source": [
        "from keras.utils.np_utils import to_categorical # convert to one-hot-encoding\n",
        "y = to_categorical(y, num_classes = 10)"
      ],
      "metadata": {
        "id": "-0xtYCIDEY_P"
      },
      "execution_count": null,
      "outputs": []
    },
    {
      "cell_type": "code",
      "source": [
        "from keras.utils.np_utils import to_categorical\n",
        "from sklearn.model_selection import train_test_split\n",
        "X_train, X_prep, y_train, y_prep = train_test_split(X_reshape, y, train_size = 0.8, random_state=42)\n",
        "X_val, X_test, y_val, y_test = train_test_split(X_prep, y_prep, train_size = 0.5, random_state=42)"
      ],
      "metadata": {
        "id": "NRP_4ofrEa5n"
      },
      "execution_count": null,
      "outputs": []
    },
    {
      "cell_type": "code",
      "source": [
        "# Verisetlerinin dışarıya aktarılması\n",
        "import pickle\n",
        "with open(\"/content/drive/MyDrive/Data/X_train.pickle\",\"wb\") as f:\n",
        "  pickle.dump(X_train, f)\n",
        "with open(\"/content/drive/MyDrive/Data/y_train.pickle\",\"wb\") as f:\n",
        "  pickle.dump(y_train, f)\n",
        "with open(\"/content/drive/MyDrive/Data/X_test.pickle\",\"wb\") as f:\n",
        "  pickle.dump(X_test, f)\n",
        "with open(\"/content/drive/MyDrive/Data/y_test.pickle\",\"wb\") as f:\n",
        "  pickle.dump(y_test, f)\n",
        "with open(\"/content/drive/MyDrive/Data/X_val.pickle\",\"wb\") as f:\n",
        "  pickle.dump(X_val, f)  \n",
        "with open(\"/content/drive/MyDrive/Data/y_val.pickle\",\"wb\") as f:\n",
        "  pickle.dump(y_val, f)"
      ],
      "metadata": {
        "id": "u5qauVbOEkSP"
      },
      "execution_count": null,
      "outputs": []
    },
    {
      "cell_type": "code",
      "source": [],
      "metadata": {
        "id": "gDYA4Pt0Fao4"
      },
      "execution_count": null,
      "outputs": []
    }
  ]
}
a
